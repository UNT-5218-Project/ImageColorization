{
 "cells": [
  {
   "cell_type": "code",
   "execution_count": 34,
   "id": "21c71f05",
   "metadata": {},
   "outputs": [],
   "source": [
    "# This Python 3 environment comes with many helpful analytics libraries installed\n",
    "# It is defined by the kaggle/python docker image: https://github.com/kaggle/docker-python\n",
    "# For example, here's several helpful packages to load in \n",
    "\n",
    "import numpy as np # linear algebra\n",
    "import pandas as pd # data processing, CSV file I/O (e.g. pd.read_csv)\n",
    "\n",
    "from IPython.display import display, Image\n",
    "from matplotlib.pyplot import imshow\n",
    "from keras.preprocessing.image import img_to_array, load_img\n",
    "from skimage.color import lab2rgb, rgb2lab\n",
    "import glob\n",
    "from PIL import Image\n",
    "\n",
    "# Input data files are available in the \"../input/\" directory.\n",
    "# For example, running this (by clicking run or pressing Shift+Enter) will list the files in the input directory\n",
    "\n",
    "import os\n",
    "#print(os.listdir(r\"C:\\Users\\voolo\\Image_colorization_autoencoder\\test_dataset\"))\n",
    "#INPUT_IMAGE_SRC = r\"C:\\Users\\voolo\\Image_colorization_autoencoder\\test_dataset\\0.jpg\"\n",
    "\n",
    "train_path = r\"C:\\Users\\voolo\\Image_colorization_autoencoder\\train\\color\"\n",
    "val_path = r\"C:\\Users\\voolo\\Image_colorization_autoencoder\\valid\\color\"\n",
    "test_path = r\"C:\\Users\\voolo\\Image_colorization_autoencoder\\test\\color\"\n",
    "\n",
    "def preprocessing(path):\n",
    "    color_L = []\n",
    "    color_ab =[]\n",
    "    for name in glob.glob(path+'\\*.jpg'):\n",
    "        image = img_to_array(load_img(name, target_size=(75,75))) / 255\n",
    "        lab_image = rgb2lab(image)\n",
    "        lab_image.shape\n",
    "        lab_image_norm = (lab_image + [0, 128, 128]) / [100, 255, 255]\n",
    "\n",
    "        # The input will be the black and white layer\n",
    "        X = lab_image_norm[:,:,0]\n",
    "        # The outpts will be the ab channels\n",
    "        Y = lab_image_norm[:,:,1:]\n",
    "        color_L.append(X)\n",
    "        color_ab.append(Y)\n",
    "    color_L = np.asarray(color_L)\n",
    "    color_ab = np.asarray(color_ab)\n",
    "    color_L = color_L.reshape(len(color_L), X.shape[0], X.shape[1], 1)\n",
    "    color_ab = color_ab.reshape(len(color_ab), Y.shape[0], Y.shape[1], 2)\n",
    "    return color_L, color_ab\n"
   ]
  },
  {
   "cell_type": "code",
   "execution_count": 35,
   "id": "60a3990f",
   "metadata": {},
   "outputs": [
    {
     "data": {
      "text/plain": [
       "((25670, 75, 75, 1), (25670, 75, 75, 2))"
      ]
     },
     "execution_count": 35,
     "metadata": {},
     "output_type": "execute_result"
    }
   ],
   "source": [
    "X_test, Y_test= preprocessing(test_path)\n",
    "X_train.shape, Y_train.shape"
   ]
  },
  {
   "cell_type": "code",
   "execution_count": 30,
   "id": "191b13c3",
   "metadata": {},
   "outputs": [
    {
     "data": {
      "text/plain": [
       "((2850, 75, 75, 1), (2850, 75, 75, 2))"
      ]
     },
     "execution_count": 30,
     "metadata": {},
     "output_type": "execute_result"
    }
   ],
   "source": [
    "X_val, Y_val= preprocessing(val_path)\n",
    "X_val.shape, Y_val.shape"
   ]
  },
  {
   "cell_type": "code",
   "execution_count": 33,
   "id": "b4bb8c8f",
   "metadata": {},
   "outputs": [
    {
     "data": {
      "text/plain": [
       "((25670, 75, 75, 1), (25670, 75, 75, 2))"
      ]
     },
     "execution_count": 33,
     "metadata": {},
     "output_type": "execute_result"
    }
   ],
   "source": [
    "X_train, Y_train= preprocessing(train_path)\n",
    "X_train.shape, Y_train.shape"
   ]
  },
  {
   "cell_type": "code",
   "execution_count": null,
   "id": "04e856a3",
   "metadata": {},
   "outputs": [],
   "source": []
  }
 ],
 "metadata": {
  "kernelspec": {
   "display_name": "Python 3",
   "language": "python",
   "name": "python3"
  },
  "language_info": {
   "codemirror_mode": {
    "name": "ipython",
    "version": 3
   },
   "file_extension": ".py",
   "mimetype": "text/x-python",
   "name": "python",
   "nbconvert_exporter": "python",
   "pygments_lexer": "ipython3",
   "version": "3.7.9"
  }
 },
 "nbformat": 4,
 "nbformat_minor": 5
}
