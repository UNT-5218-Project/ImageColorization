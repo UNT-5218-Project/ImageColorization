{
 "cells": [
  {
   "cell_type": "code",
   "execution_count": 5,
   "id": "a0ff89eb",
   "metadata": {},
   "outputs": [],
   "source": [
    "import numpy as np # linear algebra\n",
    "import pandas as pd # data processing, CSV file I/O (e.g. pd.read_csv)\n",
    "import os\n",
    "import cv2\n",
    "import matplotlib.pyplot as plt\n",
    "from sklearn.model_selection import train_test_split\n",
    "from keras.optimizers import Adam\n",
    "from keras import backend as K\n",
    "from keras.layers import Conv2D,MaxPooling2D,UpSampling2D,Input,BatchNormalization,LeakyReLU\n",
    "from keras.layers.merge import concatenate\n",
    "from keras.models import Model\n",
    "from keras.preprocessing.image import ImageDataGenerator\n",
    "import tensorflow as tf\n",
    "import glob\n",
    "\n",
    "HEIGHT=75\n",
    "WIDTH=75\n",
    "\n",
    "train_path = r\"C:\\Users\\voolo\\Image_colorization_autoencoder\\train\\color\"\n",
    "val_path = r\"C:\\Users\\voolo\\Image_colorization_autoencoder\\valid\\color\"\n",
    "test_path = r\"C:\\Users\\voolo\\Image_colorization_autoencoder\\test\\color\"\n",
    "\n",
    "def ExtractInput(path):\n",
    "    X_img=[]\n",
    "    y_img=[]\n",
    "    for name in glob.glob(train_path+'\\*.jpg'):\n",
    "        try:\n",
    "            img = cv2.imread(name)\n",
    "            img = cv2.cvtColor(img, cv2.COLOR_BGR2RGB)\n",
    "            img = cv2.cvtColor(img, cv2.COLOR_RGB2GRAY)\n",
    "            img = cv2.cvtColor(img, cv2.COLOR_GRAY2RGB)\n",
    "    \n",
    "            img = img.astype(np.float32)\n",
    "            img_lab = cv2.cvtColor(img, cv2.COLOR_RGB2Lab)\n",
    "            #Convert the rgb values of the input image to the range of 0 to 1\n",
    "            #1.0/255 indicates that we are using a 24-bit RGB color space.\n",
    "            #It means that we are using numbers between 0–255 for each color channel\n",
    "            #img_lab = 1.0/225*img_lab\n",
    "            # resize the lightness channel to network input size \n",
    "            img_lab_rs = cv2.resize(img_lab, (WIDTH, HEIGHT)) # resize image to network input size\n",
    "            img_l = img_lab_rs[:,:,0] # pull out L channel\n",
    "            #img_l -= 50 # subtract 50 for mean-centering\n",
    "            img_ab = img_lab_rs[:,:,1:]#Extracting the ab channel\n",
    "            img_ab = img_ab/128\n",
    "            #The true color values range between -128 and 128. This is the default interval \n",
    "            #in the Lab color space. By dividing them by 128, they too fall within the -1 to 1 interval.\n",
    "            X_img.append(img_l)\n",
    "            y_img.append(img_ab)\n",
    "        except:\n",
    "            pass\n",
    "    X_img = np.array(X_img)\n",
    "    y_img = np.array(y_img)\n",
    "    \n",
    "    return X_img,y_img"
   ]
  },
  {
   "cell_type": "code",
   "execution_count": 7,
   "id": "4f8b7dc6",
   "metadata": {},
   "outputs": [],
   "source": [
    "L_train,ab_train = ExtractInput(train_path)\n",
    "L_val,ab_val = ExtractInput(val_path)\n",
    "L_test,ab_test = ExtractInput(test_path)"
   ]
  },
  {
   "cell_type": "code",
   "execution_count": 8,
   "id": "43c17a56",
   "metadata": {},
   "outputs": [
    {
     "name": "stdout",
     "output_type": "stream",
     "text": [
      "(25670, 75, 75) (25670, 75, 75, 2) (25670, 75, 75) (25670, 75, 75, 2) (25670, 75, 75) (25670, 75, 75, 2)\n"
     ]
    }
   ],
   "source": [
    "print(L_train.shape, ab_train.shape,L_val.shape,ab_val.shape,L_test.shape,ab_test.shape)"
   ]
  },
  {
   "cell_type": "code",
   "execution_count": null,
   "id": "a591b45c",
   "metadata": {},
   "outputs": [],
   "source": []
  }
 ],
 "metadata": {
  "kernelspec": {
   "display_name": "Python 3",
   "language": "python",
   "name": "python3"
  },
  "language_info": {
   "codemirror_mode": {
    "name": "ipython",
    "version": 3
   },
   "file_extension": ".py",
   "mimetype": "text/x-python",
   "name": "python",
   "nbconvert_exporter": "python",
   "pygments_lexer": "ipython3",
   "version": "3.7.9"
  }
 },
 "nbformat": 4,
 "nbformat_minor": 5
}
